{
  "nbformat": 4,
  "nbformat_minor": 0,
  "metadata": {
    "kernelspec": {
      "display_name": "Python 3",
      "language": "python",
      "name": "python3"
    },
    "language_info": {
      "codemirror_mode": {
        "name": "ipython",
        "version": 3
      },
      "file_extension": ".py",
      "mimetype": "text/x-python",
      "name": "python",
      "nbconvert_exporter": "python",
      "pygments_lexer": "ipython3",
      "version": "3.6.8"
    },
    "colab": {
      "name": "09_nn_hw.ipynb",
      "provenance": [],
      "collapsed_sections": []
    },
    "accelerator": "GPU"
  },
  "cells": [
    {
      "cell_type": "markdown",
      "metadata": {
        "id": "Fh0AC6_QYD4C"
      },
      "source": [
        "# <center> **Assignment 09** </center>\n",
        "## <center> **Neural networks** </center>\n",
        "## <center> **Benedek Dankó** </center>"
      ]
    },
    {
      "cell_type": "markdown",
      "metadata": {
        "id": "cxOu-xZDYXHT"
      },
      "source": [
        "#### 1 - 2. Implement fully connected neural network via using only numpy"
      ]
    },
    {
      "cell_type": "code",
      "metadata": {
        "id": "rNUNvuAoYq_p"
      },
      "source": [
        "%tensorflow_version 2.x"
      ],
      "execution_count": 1,
      "outputs": []
    },
    {
      "cell_type": "code",
      "metadata": {
        "id": "L5dpsysJYrym"
      },
      "source": [
        "import numpy as np\n",
        "import matplotlib.pyplot as plt\n",
        "from google.colab import drive\n",
        "from tensorflow import keras\n",
        "from sklearn.metrics import accuracy_score\n",
        "from sklearn.metrics import confusion_matrix\n",
        "import seaborn as sn\n",
        "import pandas as pd\n",
        "\n",
        "\n",
        "%matplotlib inline"
      ],
      "execution_count": 2,
      "outputs": []
    },
    {
      "cell_type": "code",
      "metadata": {
        "id": "XhedDfTKZOCA"
      },
      "source": [
        "weights = np.load('weights.npy', allow_pickle=True)"
      ],
      "execution_count": 6,
      "outputs": []
    },
    {
      "cell_type": "code",
      "metadata": {
        "id": "51HExdFDbDYd",
        "outputId": "532300e5-b84a-4a54-93d9-99bcd7df578b",
        "colab": {
          "base_uri": "https://localhost:8080/"
        }
      },
      "source": [
        "(x_train, y_train), (x_test, y_test) = keras.datasets.mnist.load_data()\n",
        "x_test = x_test.reshape(10000, 28*28)/255"
      ],
      "execution_count": 7,
      "outputs": [
        {
          "output_type": "stream",
          "text": [
            "Downloading data from https://storage.googleapis.com/tensorflow/tf-keras-datasets/mnist.npz\n",
            "11493376/11490434 [==============================] - 0s 0us/step\n"
          ],
          "name": "stdout"
        }
      ]
    },
    {
      "cell_type": "code",
      "metadata": {
        "id": "XBqkuDyIOnyI"
      },
      "source": [
        "def pred_nn(weights, inputs):\n",
        "    layer1 = (weights[0].T@inputs.T + weights[1][None].T).clip(0,)\n",
        "    layer2 = (weights[2].T@layer1 + weights[3][None].T).clip(0,)\n",
        "    layer3 = (weights[4].T@layer2 + weights[5][None].T).clip(0,)\n",
        "    layer4 = weights[6].T@layer3 + weights[7][None].T\n",
        "    return (np.exp(layer4)/np.exp(layer4).sum(0)).T"
      ],
      "execution_count": 8,
      "outputs": []
    },
    {
      "cell_type": "code",
      "metadata": {
        "id": "7ztqiTL9jeSs",
        "outputId": "11db4e00-ae5d-4886-9d9c-0169eb40b3ac",
        "colab": {
          "base_uri": "https://localhost:8080/"
        }
      },
      "source": [
        "x_test[:3].shape, pred_nn(weights, x_test[:3]).shape"
      ],
      "execution_count": 9,
      "outputs": [
        {
          "output_type": "execute_result",
          "data": {
            "text/plain": [
              "((3, 784), (3, 10))"
            ]
          },
          "metadata": {
            "tags": []
          },
          "execution_count": 9
        }
      ]
    },
    {
      "cell_type": "markdown",
      "metadata": {
        "id": "JTVaIouahaiD"
      },
      "source": [
        "#### 3. Same architecture via tensorflow/keras"
      ]
    },
    {
      "cell_type": "code",
      "metadata": {
        "id": "QaUSnCmhhVoo",
        "outputId": "5ef533a5-a3b5-4ebb-be7e-30d1a32172b9",
        "colab": {
          "base_uri": "https://localhost:8080/"
        }
      },
      "source": [
        "# Create model, add weights manually:\n",
        "model = keras.Sequential()\n",
        "model.add(keras.layers.Dense(750, activation='relu', input_dim=784))\n",
        "model.add(keras.layers.Dense(500, activation='relu'))\n",
        "model.add(keras.layers.Dense(500, activation='relu'))\n",
        "model.add(keras.layers.Dense(10, activation='softmax'))\n",
        "model.add_weight(shape=weights[0].shape)\n",
        "model.add_weight(shape=weights[2].shape)\n",
        "model.add_weight(shape=weights[4].shape)\n",
        "model.add_weight(shape=weights[6].shape)"
      ],
      "execution_count": 11,
      "outputs": [
        {
          "output_type": "execute_result",
          "data": {
            "text/plain": [
              "<tf.Variable 'Variable:0' shape=(500, 10) dtype=float32, numpy=\n",
              "array([[ 0.05621386,  0.00207841,  0.01185557, ..., -0.01047211,\n",
              "        -0.05307059,  0.06543068],\n",
              "       [ 0.03777606, -0.07401527,  0.02762378, ...,  0.05453471,\n",
              "         0.09884361, -0.0740121 ],\n",
              "       [ 0.01261961,  0.03447904,  0.02795926, ...,  0.03520859,\n",
              "         0.0788138 ,  0.02549442],\n",
              "       ...,\n",
              "       [-0.09045841,  0.03814376, -0.09912745, ..., -0.04130115,\n",
              "         0.0144577 , -0.08523774],\n",
              "       [-0.06282739,  0.00831313, -0.00560854, ..., -0.07542069,\n",
              "         0.05562583, -0.02495667],\n",
              "       [ 0.04869925,  0.09073097,  0.04013684, ...,  0.05495589,\n",
              "        -0.09301975,  0.03005441]], dtype=float32)>"
            ]
          },
          "metadata": {
            "tags": []
          },
          "execution_count": 11
        }
      ]
    },
    {
      "cell_type": "code",
      "metadata": {
        "id": "Fj82PaKSiNPn",
        "outputId": "413867af-2b4a-49dd-d445-9e736a23f3b2",
        "colab": {
          "base_uri": "https://localhost:8080/"
        }
      },
      "source": [
        "model.summary()"
      ],
      "execution_count": 12,
      "outputs": [
        {
          "output_type": "stream",
          "text": [
            "Model: \"sequential_1\"\n",
            "_________________________________________________________________\n",
            "Layer (type)                 Output Shape              Param #   \n",
            "=================================================================\n",
            "dense_4 (Dense)              (None, 750)               588750    \n",
            "_________________________________________________________________\n",
            "dense_5 (Dense)              (None, 500)               375500    \n",
            "_________________________________________________________________\n",
            "dense_6 (Dense)              (None, 500)               250500    \n",
            "_________________________________________________________________\n",
            "dense_7 (Dense)              (None, 10)                5010      \n",
            "=================================================================\n",
            "Total params: 2,437,760\n",
            "Trainable params: 2,437,760\n",
            "Non-trainable params: 0\n",
            "_________________________________________________________________\n"
          ],
          "name": "stdout"
        }
      ]
    },
    {
      "cell_type": "markdown",
      "metadata": {
        "id": "TJtRZT_ckEjv"
      },
      "source": [
        "#### 4-5. Compare performances"
      ]
    },
    {
      "cell_type": "code",
      "metadata": {
        "id": "K45rdw-Wi-nO",
        "outputId": "e71fb9fc-f5a2-4e92-a9cf-e74426b6084e",
        "colab": {
          "base_uri": "https://localhost:8080/"
        }
      },
      "source": [
        "# split data, scale data, convert it:\n",
        "(x_train, y_train), (x_test, y_test) = keras.datasets.mnist.load_data()\n",
        "x_test = x_test.reshape(10000, 28*28)/255\n",
        "x_train = x_train.reshape(60000, 28*28)/255\n",
        "y_train_oh = keras.utils.to_categorical(y_train)\n",
        "y_test_oh = keras.utils.to_categorical(y_test)\n",
        "print(x_test.shape, x_train.shape)"
      ],
      "execution_count": 13,
      "outputs": [
        {
          "output_type": "stream",
          "text": [
            "(10000, 784) (60000, 784)\n"
          ],
          "name": "stdout"
        }
      ]
    },
    {
      "cell_type": "code",
      "metadata": {
        "id": "Oif7HHQzmUSz",
        "outputId": "ef8d8736-bc49-4d17-bbdc-4515e99dbed0",
        "colab": {
          "base_uri": "https://localhost:8080/"
        }
      },
      "source": [
        "# compile, fit data to model:\n",
        "model.compile(loss='categorical_crossentropy', optimizer=keras.optimizers.SGD(lr=1e-2), metrics=['accuracy'])\n",
        "history = model.fit(x=x_train, y=y_train_oh, batch_size=64, epochs=15, validation_data=(x_test, y_test_oh))"
      ],
      "execution_count": 14,
      "outputs": [
        {
          "output_type": "stream",
          "text": [
            "Epoch 1/15\n",
            "WARNING:tensorflow:Gradients do not exist for variables ['Variable:0', 'Variable:0', 'Variable:0', 'Variable:0'] when minimizing the loss.\n",
            "WARNING:tensorflow:Gradients do not exist for variables ['Variable:0', 'Variable:0', 'Variable:0', 'Variable:0'] when minimizing the loss.\n",
            "WARNING:tensorflow:Gradients do not exist for variables ['Variable:0', 'Variable:0', 'Variable:0', 'Variable:0'] when minimizing the loss.\n",
            "WARNING:tensorflow:Gradients do not exist for variables ['Variable:0', 'Variable:0', 'Variable:0', 'Variable:0'] when minimizing the loss.\n",
            "938/938 [==============================] - 2s 3ms/step - loss: 0.7900 - accuracy: 0.8121 - val_loss: 0.3481 - val_accuracy: 0.9023\n",
            "Epoch 2/15\n",
            "938/938 [==============================] - 2s 2ms/step - loss: 0.3052 - accuracy: 0.9138 - val_loss: 0.2669 - val_accuracy: 0.9237\n",
            "Epoch 3/15\n",
            "938/938 [==============================] - 2s 2ms/step - loss: 0.2486 - accuracy: 0.9290 - val_loss: 0.2178 - val_accuracy: 0.9395\n",
            "Epoch 4/15\n",
            "938/938 [==============================] - 2s 2ms/step - loss: 0.2129 - accuracy: 0.9394 - val_loss: 0.1952 - val_accuracy: 0.9444\n",
            "Epoch 5/15\n",
            "938/938 [==============================] - 2s 2ms/step - loss: 0.1865 - accuracy: 0.9464 - val_loss: 0.1772 - val_accuracy: 0.9487\n",
            "Epoch 6/15\n",
            "938/938 [==============================] - 2s 3ms/step - loss: 0.1652 - accuracy: 0.9530 - val_loss: 0.1549 - val_accuracy: 0.9543\n",
            "Epoch 7/15\n",
            "938/938 [==============================] - 2s 2ms/step - loss: 0.1480 - accuracy: 0.9583 - val_loss: 0.1438 - val_accuracy: 0.9581\n",
            "Epoch 8/15\n",
            "938/938 [==============================] - 2s 2ms/step - loss: 0.1336 - accuracy: 0.9624 - val_loss: 0.1324 - val_accuracy: 0.9616\n",
            "Epoch 9/15\n",
            "938/938 [==============================] - 2s 3ms/step - loss: 0.1210 - accuracy: 0.9652 - val_loss: 0.1253 - val_accuracy: 0.9627\n",
            "Epoch 10/15\n",
            "938/938 [==============================] - 2s 2ms/step - loss: 0.1112 - accuracy: 0.9684 - val_loss: 0.1140 - val_accuracy: 0.9658\n",
            "Epoch 11/15\n",
            "938/938 [==============================] - 2s 2ms/step - loss: 0.1013 - accuracy: 0.9709 - val_loss: 0.1085 - val_accuracy: 0.9682\n",
            "Epoch 12/15\n",
            "938/938 [==============================] - 2s 2ms/step - loss: 0.0933 - accuracy: 0.9739 - val_loss: 0.1062 - val_accuracy: 0.9681\n",
            "Epoch 13/15\n",
            "938/938 [==============================] - 2s 2ms/step - loss: 0.0857 - accuracy: 0.9758 - val_loss: 0.0995 - val_accuracy: 0.9708\n",
            "Epoch 14/15\n",
            "938/938 [==============================] - 2s 2ms/step - loss: 0.0798 - accuracy: 0.9778 - val_loss: 0.0982 - val_accuracy: 0.9706\n",
            "Epoch 15/15\n",
            "938/938 [==============================] - 2s 2ms/step - loss: 0.0739 - accuracy: 0.9794 - val_loss: 0.0906 - val_accuracy: 0.9723\n"
          ],
          "name": "stdout"
        }
      ]
    },
    {
      "cell_type": "code",
      "metadata": {
        "id": "4XKK_aWyKOps",
        "outputId": "0d97af24-2a98-4ea6-cb73-fd636c95e49f",
        "colab": {
          "base_uri": "https://localhost:8080/"
        }
      },
      "source": [
        "%%time\n",
        "np_preds = pred_nn(weights, x_test)"
      ],
      "execution_count": 15,
      "outputs": [
        {
          "output_type": "stream",
          "text": [
            "CPU times: user 1.55 s, sys: 220 ms, total: 1.77 s\n",
            "Wall time: 914 ms\n"
          ],
          "name": "stdout"
        }
      ]
    },
    {
      "cell_type": "code",
      "metadata": {
        "id": "fm5rRGc3lurG",
        "outputId": "9dd86e43-0f93-4c2b-c0f5-b71acf0cb345",
        "colab": {
          "base_uri": "https://localhost:8080/"
        }
      },
      "source": [
        "%%time\n",
        "tf_preds = model.predict(x_test)"
      ],
      "execution_count": 16,
      "outputs": [
        {
          "output_type": "stream",
          "text": [
            "CPU times: user 409 ms, sys: 34.2 ms, total: 443 ms\n",
            "Wall time: 351 ms\n"
          ],
          "name": "stdout"
        }
      ]
    },
    {
      "cell_type": "code",
      "metadata": {
        "id": "2PzI51Zds09i",
        "outputId": "7a7d1f8d-9925-48fe-f5a7-91cc85cf0759",
        "colab": {
          "base_uri": "https://localhost:8080/"
        }
      },
      "source": [
        "cce = keras.losses.CategoricalCrossentropy()\n",
        "cce(y_test_oh, tf_preds).numpy()"
      ],
      "execution_count": 18,
      "outputs": [
        {
          "output_type": "execute_result",
          "data": {
            "text/plain": [
              "0.09061206"
            ]
          },
          "metadata": {
            "tags": []
          },
          "execution_count": 18
        }
      ]
    },
    {
      "cell_type": "markdown",
      "metadata": {
        "id": "DnToq6zjWIik"
      },
      "source": [
        "Accuracy: 0.9789, categorical crossentropy: 0.0911 for the tensorflow model. \n",
        "Unluckily, my manually created NN model does not really works, there are some issues druing back propagation."
      ]
    },
    {
      "cell_type": "code",
      "metadata": {
        "id": "v-sCW9SSKkPd"
      },
      "source": [
        "# create confusion matrix:\n",
        "cm = confusion_matrix(y_pred=np.argmax(np_preds, 1), y_true=y_test)"
      ],
      "execution_count": 20,
      "outputs": []
    },
    {
      "cell_type": "code",
      "metadata": {
        "id": "nNiWYQ4MXOOb",
        "outputId": "81a96486-bcdf-438e-d131-810901f0a3de",
        "colab": {
          "base_uri": "https://localhost:8080/"
        }
      },
      "source": [
        "cm"
      ],
      "execution_count": 21,
      "outputs": [
        {
          "output_type": "execute_result",
          "data": {
            "text/plain": [
              "array([[ 965,    0,    0,    2,    0,    2,    6,    2,    2,    1],\n",
              "       [   0, 1122,    4,    1,    0,    0,    4,    1,    3,    0],\n",
              "       [   5,    0, 1012,    2,    2,    0,    1,    7,    3,    0],\n",
              "       [   0,    0,    3,  990,    0,    3,    0,    8,    3,    3],\n",
              "       [   0,    0,    7,    0,  956,    0,    5,    2,    2,   10],\n",
              "       [   5,    1,    2,   13,    3,  848,   10,    1,    7,    2],\n",
              "       [   7,    3,    0,    1,    4,    5,  936,    1,    1,    0],\n",
              "       [   2,    7,   12,    3,    0,    0,    0, 1000,    0,    4],\n",
              "       [   4,    1,    5,   14,    3,    5,    8,    7,  923,    4],\n",
              "       [   4,    5,    2,   11,   15,    1,    1,   14,    0,  956]])"
            ]
          },
          "metadata": {
            "tags": []
          },
          "execution_count": 21
        }
      ]
    },
    {
      "cell_type": "code",
      "metadata": {
        "id": "vZeM5pUpX-3_",
        "outputId": "d9c709c4-4d99-464c-d71b-015b15d3e4a3",
        "colab": {
          "base_uri": "https://localhost:8080/",
          "height": 460
        }
      },
      "source": [
        "df_cm = pd.DataFrame(cm)\n",
        "plt.figure(figsize = (10,7))\n",
        "sn.heatmap(df_cm, cmap='mako', vmax=30)\n",
        "plt.title(\"Confusion matrix - My NN model\", fontsize=16)\n",
        "plt.xlabel('Predicted label')\n",
        "plt.ylabel('Actual label')\n",
        "plt.show()"
      ],
      "execution_count": 23,
      "outputs": [
        {
          "output_type": "display_data",
          "data": {
            "image/png": "[encoded data removed]",
            "text/plain": [
              "<Figure size 720x504 with 2 Axes>"
            ]
          },
          "metadata": {
            "tags": [],
            "needs_background": "light"
          }
        }
      ]
    },
    {
      "cell_type": "markdown",
      "metadata": {
        "id": "y0zn6-p9Z9hZ"
      },
      "source": [
        "Number 4 and 9 can be changed up in some case, or values 3 and 8, or values 5 and 3 as well."
      ]
    }
  ]
}