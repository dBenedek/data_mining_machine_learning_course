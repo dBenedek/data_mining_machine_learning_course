{
 "cells": [
  {
   "cell_type": "markdown",
   "metadata": {
    "id": "yuCzVHwWmFMY"
   },
   "source": [
    "<h1><center>Assignment 12</h1></center>\n",
    "<h2><center>Benedek Dankó</h2></center>\n"
   ]
  },
  {
   "cell_type": "code",
   "execution_count": 1,
   "metadata": {
    "id": "VVBpVt0XmdvD"
   },
   "outputs": [],
   "source": [
    "# import required packages:\n",
    "\n",
    "%tensorflow_version 2.x\n",
    "%matplotlib inline\n",
    "\n",
    "import numpy as np\n",
    "import pandas as pd\n",
    "import matplotlib.pyplot as plt\n",
    "import seaborn as sns\n",
    "\n",
    "from sklearn.manifold import TSNE\n",
    "from sklearn.linear_model import LogisticRegression\n",
    "from sklearn.svm import SVC\n",
    "from sklearn.ensemble import RandomForestClassifier\n",
    "from sklearn.preprocessing import MinMaxScaler, scale\n",
    "from sklearn.model_selection import KFold, train_test_split, GridSearchCV\n",
    "from sklearn import metrics\n",
    "from sklearn.metrics import accuracy_score\n",
    "\n",
    "from google.colab import drive"
   ]
  },
  {
   "cell_type": "markdown",
   "metadata": {
    "id": "_XsWeMlAmRgG"
   },
   "source": [
    "#### 1. Load & prepare data"
   ]
  },
  {
   "cell_type": "code",
   "execution_count": 3,
   "metadata": {
    "id": "Jf7Sk0lImz_u"
   },
   "outputs": [],
   "source": [
    "# read data:\n",
    "data = pd.read_csv('../data/Donihue 2018-01-00672 Hurricanes Data.csv', na_values=\" \")"
   ]
  },
  {
   "cell_type": "code",
   "execution_count": 4,
   "metadata": {
    "colab": {
     "base_uri": "https://localhost:8080/",
     "height": 313
    },
    "id": "RKEL0RdtnEka",
    "outputId": "84a00d26-0a24-4432-f6ac-918b6087d9cf"
   },
   "outputs": [
    {
     "data": {
      "text/html": [
       "<div>\n",
       "<style scoped>\n",
       "    .dataframe tbody tr th:only-of-type {\n",
       "        vertical-align: middle;\n",
       "    }\n",
       "\n",
       "    .dataframe tbody tr th {\n",
       "        vertical-align: top;\n",
       "    }\n",
       "\n",
       "    .dataframe thead th {\n",
       "        text-align: right;\n",
       "    }\n",
       "</style>\n",
       "<table border=\"1\" class=\"dataframe\">\n",
       "  <thead>\n",
       "    <tr style=\"text-align: right;\">\n",
       "      <th></th>\n",
       "      <th>ID</th>\n",
       "      <th>Hurricane</th>\n",
       "      <th>Origin</th>\n",
       "      <th>Sex</th>\n",
       "      <th>SVL</th>\n",
       "      <th>Femur</th>\n",
       "      <th>Tibia</th>\n",
       "      <th>Metatarsal</th>\n",
       "      <th>LongestToe</th>\n",
       "      <th>Humerus</th>\n",
       "      <th>Radius</th>\n",
       "      <th>Metacarpal</th>\n",
       "      <th>LongestFinger</th>\n",
       "      <th>FingerCount</th>\n",
       "      <th>ToeCount</th>\n",
       "      <th>FingerArea1</th>\n",
       "      <th>FingerArea2</th>\n",
       "      <th>FingerArea3</th>\n",
       "      <th>ToeArea1</th>\n",
       "      <th>ToeArea2</th>\n",
       "      <th>ToeArea3</th>\n",
       "      <th>MeanFingerArea</th>\n",
       "      <th>MeanToeArea</th>\n",
       "      <th>SumFingers</th>\n",
       "      <th>SumToes</th>\n",
       "      <th>MaxFingerForce</th>\n",
       "    </tr>\n",
       "  </thead>\n",
       "  <tbody>\n",
       "    <tr>\n",
       "      <th>0</th>\n",
       "      <td>537</td>\n",
       "      <td>After</td>\n",
       "      <td>Pine Cay</td>\n",
       "      <td>Male</td>\n",
       "      <td>48.69</td>\n",
       "      <td>10.39</td>\n",
       "      <td>11.87</td>\n",
       "      <td>7.52</td>\n",
       "      <td>7.43</td>\n",
       "      <td>8.66</td>\n",
       "      <td>7.99</td>\n",
       "      <td>2.22</td>\n",
       "      <td>3.19</td>\n",
       "      <td>10.0</td>\n",
       "      <td>12.0</td>\n",
       "      <td>1.321</td>\n",
       "      <td>1.338</td>\n",
       "      <td>1.339</td>\n",
       "      <td>2.529</td>\n",
       "      <td>2.402</td>\n",
       "      <td>2.369</td>\n",
       "      <td>1.332667</td>\n",
       "      <td>2.433333</td>\n",
       "      <td>2.663</td>\n",
       "      <td>4.791</td>\n",
       "      <td>0.116</td>\n",
       "    </tr>\n",
       "    <tr>\n",
       "      <th>1</th>\n",
       "      <td>539</td>\n",
       "      <td>After</td>\n",
       "      <td>Pine Cay</td>\n",
       "      <td>Female</td>\n",
       "      <td>40.31</td>\n",
       "      <td>8.66</td>\n",
       "      <td>9.79</td>\n",
       "      <td>6.18</td>\n",
       "      <td>6.20</td>\n",
       "      <td>8.01</td>\n",
       "      <td>6.51</td>\n",
       "      <td>2.38</td>\n",
       "      <td>3.55</td>\n",
       "      <td>10.0</td>\n",
       "      <td>13.0</td>\n",
       "      <td>0.962</td>\n",
       "      <td>0.950</td>\n",
       "      <td>0.972</td>\n",
       "      <td>1.498</td>\n",
       "      <td>1.525</td>\n",
       "      <td>1.530</td>\n",
       "      <td>0.961333</td>\n",
       "      <td>1.517667</td>\n",
       "      <td>2.595</td>\n",
       "      <td>3.678</td>\n",
       "      <td>0.048</td>\n",
       "    </tr>\n",
       "    <tr>\n",
       "      <th>2</th>\n",
       "      <td>540</td>\n",
       "      <td>After</td>\n",
       "      <td>Pine Cay</td>\n",
       "      <td>Male</td>\n",
       "      <td>58.30</td>\n",
       "      <td>12.87</td>\n",
       "      <td>14.76</td>\n",
       "      <td>9.45</td>\n",
       "      <td>9.58</td>\n",
       "      <td>11.72</td>\n",
       "      <td>9.54</td>\n",
       "      <td>3.54</td>\n",
       "      <td>5.09</td>\n",
       "      <td>14.0</td>\n",
       "      <td>15.0</td>\n",
       "      <td>2.507</td>\n",
       "      <td>2.702</td>\n",
       "      <td>2.685</td>\n",
       "      <td>4.157</td>\n",
       "      <td>4.140</td>\n",
       "      <td>3.996</td>\n",
       "      <td>2.631333</td>\n",
       "      <td>4.097667</td>\n",
       "      <td>7.347</td>\n",
       "      <td>4.682</td>\n",
       "      <td>0.424</td>\n",
       "    </tr>\n",
       "    <tr>\n",
       "      <th>3</th>\n",
       "      <td>541</td>\n",
       "      <td>After</td>\n",
       "      <td>Pine Cay</td>\n",
       "      <td>Female</td>\n",
       "      <td>43.15</td>\n",
       "      <td>8.55</td>\n",
       "      <td>10.29</td>\n",
       "      <td>6.60</td>\n",
       "      <td>6.26</td>\n",
       "      <td>7.43</td>\n",
       "      <td>6.60</td>\n",
       "      <td>2.79</td>\n",
       "      <td>3.55</td>\n",
       "      <td>11.0</td>\n",
       "      <td>12.0</td>\n",
       "      <td>1.172</td>\n",
       "      <td>1.175</td>\n",
       "      <td>1.186</td>\n",
       "      <td>1.898</td>\n",
       "      <td>1.871</td>\n",
       "      <td>1.867</td>\n",
       "      <td>1.177667</td>\n",
       "      <td>1.878667</td>\n",
       "      <td>2.786</td>\n",
       "      <td>5.378</td>\n",
       "      <td>0.171</td>\n",
       "    </tr>\n",
       "    <tr>\n",
       "      <th>4</th>\n",
       "      <td>542</td>\n",
       "      <td>After</td>\n",
       "      <td>Pine Cay</td>\n",
       "      <td>Female</td>\n",
       "      <td>45.51</td>\n",
       "      <td>10.26</td>\n",
       "      <td>11.02</td>\n",
       "      <td>6.89</td>\n",
       "      <td>7.02</td>\n",
       "      <td>7.71</td>\n",
       "      <td>7.25</td>\n",
       "      <td>2.52</td>\n",
       "      <td>3.37</td>\n",
       "      <td>11.0</td>\n",
       "      <td>13.0</td>\n",
       "      <td>1.376</td>\n",
       "      <td>1.357</td>\n",
       "      <td>1.420</td>\n",
       "      <td>2.627</td>\n",
       "      <td>2.435</td>\n",
       "      <td>2.529</td>\n",
       "      <td>1.384333</td>\n",
       "      <td>2.530333</td>\n",
       "      <td>3.575</td>\n",
       "      <td>6.646</td>\n",
       "      <td>0.014</td>\n",
       "    </tr>\n",
       "  </tbody>\n",
       "</table>\n",
       "</div>"
      ],
      "text/plain": [
       "    ID Hurricane    Origin  ... SumFingers  SumToes  MaxFingerForce\n",
       "0  537     After  Pine Cay  ...      2.663    4.791           0.116\n",
       "1  539     After  Pine Cay  ...      2.595    3.678           0.048\n",
       "2  540     After  Pine Cay  ...      7.347    4.682           0.424\n",
       "3  541     After  Pine Cay  ...      2.786    5.378           0.171\n",
       "4  542     After  Pine Cay  ...      3.575    6.646           0.014\n",
       "\n",
       "[5 rows x 26 columns]"
      ]
     },
     "execution_count": 4,
     "metadata": {
      "tags": []
     },
     "output_type": "execute_result"
    }
   ],
   "source": [
    "data.head()"
   ]
  },
  {
   "cell_type": "code",
   "execution_count": 5,
   "metadata": {
    "id": "LKxfjHb1oDKD"
   },
   "outputs": [],
   "source": [
    "def my_encoder(array):\n",
    "    '''\n",
    "    Encoding of an array to numeric format.\n",
    "    '''\n",
    "    unique_items = list(set(array))\n",
    "    n = len(unique_items)\n",
    "    encoded_array = []\n",
    "    for i in array:\n",
    "        encoded_array.append(unique_items.index(i))\n",
    "    return encoded_array"
   ]
  },
  {
   "cell_type": "code",
   "execution_count": 6,
   "metadata": {
    "id": "0UHSBBK2oEML"
   },
   "outputs": [],
   "source": [
    "cat_cols = ['Hurricane', 'Origin', 'Sex']"
   ]
  },
  {
   "cell_type": "code",
   "execution_count": 7,
   "metadata": {
    "id": "-gHsxYM3oP9Z"
   },
   "outputs": [],
   "source": [
    "# convert categorical columns to numeric:\n",
    "for col in cat_cols:\n",
    "    data[col] = my_encoder(data[col])"
   ]
  },
  {
   "cell_type": "code",
   "execution_count": 8,
   "metadata": {
    "colab": {
     "base_uri": "https://localhost:8080/",
     "height": 226
    },
    "id": "qWryS_kZoTs1",
    "outputId": "0f4a9af4-2c7e-4f2c-a96c-aaf2b4714097"
   },
   "outputs": [
    {
     "data": {
      "text/html": [
       "<div>\n",
       "<style scoped>\n",
       "    .dataframe tbody tr th:only-of-type {\n",
       "        vertical-align: middle;\n",
       "    }\n",
       "\n",
       "    .dataframe tbody tr th {\n",
       "        vertical-align: top;\n",
       "    }\n",
       "\n",
       "    .dataframe thead th {\n",
       "        text-align: right;\n",
       "    }\n",
       "</style>\n",
       "<table border=\"1\" class=\"dataframe\">\n",
       "  <thead>\n",
       "    <tr style=\"text-align: right;\">\n",
       "      <th></th>\n",
       "      <th>Hurricane</th>\n",
       "      <th>Origin</th>\n",
       "      <th>Sex</th>\n",
       "      <th>SVL</th>\n",
       "      <th>Femur</th>\n",
       "      <th>Tibia</th>\n",
       "      <th>Metatarsal</th>\n",
       "      <th>LongestToe</th>\n",
       "      <th>Humerus</th>\n",
       "      <th>Radius</th>\n",
       "      <th>Metacarpal</th>\n",
       "      <th>LongestFinger</th>\n",
       "      <th>FingerCount</th>\n",
       "      <th>ToeCount</th>\n",
       "      <th>FingerArea1</th>\n",
       "      <th>FingerArea2</th>\n",
       "      <th>FingerArea3</th>\n",
       "      <th>ToeArea1</th>\n",
       "      <th>ToeArea2</th>\n",
       "      <th>ToeArea3</th>\n",
       "      <th>MeanFingerArea</th>\n",
       "      <th>MeanToeArea</th>\n",
       "    </tr>\n",
       "  </thead>\n",
       "  <tbody>\n",
       "    <tr>\n",
       "      <th>0</th>\n",
       "      <td>0</td>\n",
       "      <td>0</td>\n",
       "      <td>0</td>\n",
       "      <td>48.69</td>\n",
       "      <td>10.39</td>\n",
       "      <td>11.87</td>\n",
       "      <td>7.52</td>\n",
       "      <td>7.43</td>\n",
       "      <td>8.66</td>\n",
       "      <td>7.99</td>\n",
       "      <td>2.22</td>\n",
       "      <td>3.19</td>\n",
       "      <td>10.0</td>\n",
       "      <td>12.0</td>\n",
       "      <td>1.321</td>\n",
       "      <td>1.338</td>\n",
       "      <td>1.339</td>\n",
       "      <td>2.529</td>\n",
       "      <td>2.402</td>\n",
       "      <td>2.369</td>\n",
       "      <td>1.332667</td>\n",
       "      <td>2.433333</td>\n",
       "    </tr>\n",
       "    <tr>\n",
       "      <th>1</th>\n",
       "      <td>0</td>\n",
       "      <td>0</td>\n",
       "      <td>1</td>\n",
       "      <td>40.31</td>\n",
       "      <td>8.66</td>\n",
       "      <td>9.79</td>\n",
       "      <td>6.18</td>\n",
       "      <td>6.20</td>\n",
       "      <td>8.01</td>\n",
       "      <td>6.51</td>\n",
       "      <td>2.38</td>\n",
       "      <td>3.55</td>\n",
       "      <td>10.0</td>\n",
       "      <td>13.0</td>\n",
       "      <td>0.962</td>\n",
       "      <td>0.950</td>\n",
       "      <td>0.972</td>\n",
       "      <td>1.498</td>\n",
       "      <td>1.525</td>\n",
       "      <td>1.530</td>\n",
       "      <td>0.961333</td>\n",
       "      <td>1.517667</td>\n",
       "    </tr>\n",
       "    <tr>\n",
       "      <th>2</th>\n",
       "      <td>0</td>\n",
       "      <td>0</td>\n",
       "      <td>0</td>\n",
       "      <td>58.30</td>\n",
       "      <td>12.87</td>\n",
       "      <td>14.76</td>\n",
       "      <td>9.45</td>\n",
       "      <td>9.58</td>\n",
       "      <td>11.72</td>\n",
       "      <td>9.54</td>\n",
       "      <td>3.54</td>\n",
       "      <td>5.09</td>\n",
       "      <td>14.0</td>\n",
       "      <td>15.0</td>\n",
       "      <td>2.507</td>\n",
       "      <td>2.702</td>\n",
       "      <td>2.685</td>\n",
       "      <td>4.157</td>\n",
       "      <td>4.140</td>\n",
       "      <td>3.996</td>\n",
       "      <td>2.631333</td>\n",
       "      <td>4.097667</td>\n",
       "    </tr>\n",
       "    <tr>\n",
       "      <th>3</th>\n",
       "      <td>0</td>\n",
       "      <td>0</td>\n",
       "      <td>1</td>\n",
       "      <td>43.15</td>\n",
       "      <td>8.55</td>\n",
       "      <td>10.29</td>\n",
       "      <td>6.60</td>\n",
       "      <td>6.26</td>\n",
       "      <td>7.43</td>\n",
       "      <td>6.60</td>\n",
       "      <td>2.79</td>\n",
       "      <td>3.55</td>\n",
       "      <td>11.0</td>\n",
       "      <td>12.0</td>\n",
       "      <td>1.172</td>\n",
       "      <td>1.175</td>\n",
       "      <td>1.186</td>\n",
       "      <td>1.898</td>\n",
       "      <td>1.871</td>\n",
       "      <td>1.867</td>\n",
       "      <td>1.177667</td>\n",
       "      <td>1.878667</td>\n",
       "    </tr>\n",
       "    <tr>\n",
       "      <th>4</th>\n",
       "      <td>0</td>\n",
       "      <td>0</td>\n",
       "      <td>1</td>\n",
       "      <td>45.51</td>\n",
       "      <td>10.26</td>\n",
       "      <td>11.02</td>\n",
       "      <td>6.89</td>\n",
       "      <td>7.02</td>\n",
       "      <td>7.71</td>\n",
       "      <td>7.25</td>\n",
       "      <td>2.52</td>\n",
       "      <td>3.37</td>\n",
       "      <td>11.0</td>\n",
       "      <td>13.0</td>\n",
       "      <td>1.376</td>\n",
       "      <td>1.357</td>\n",
       "      <td>1.420</td>\n",
       "      <td>2.627</td>\n",
       "      <td>2.435</td>\n",
       "      <td>2.529</td>\n",
       "      <td>1.384333</td>\n",
       "      <td>2.530333</td>\n",
       "    </tr>\n",
       "  </tbody>\n",
       "</table>\n",
       "</div>"
      ],
      "text/plain": [
       "   Hurricane  Origin  Sex  ...  ToeArea3  MeanFingerArea  MeanToeArea\n",
       "0          0       0    0  ...     2.369        1.332667     2.433333\n",
       "1          0       0    1  ...     1.530        0.961333     1.517667\n",
       "2          0       0    0  ...     3.996        2.631333     4.097667\n",
       "3          0       0    1  ...     1.867        1.177667     1.878667\n",
       "4          0       0    1  ...     2.529        1.384333     2.530333\n",
       "\n",
       "[5 rows x 22 columns]"
      ]
     },
     "execution_count": 8,
     "metadata": {
      "tags": []
     },
     "output_type": "execute_result"
    }
   ],
   "source": [
    "data.drop(['ID', 'SumFingers', 'SumToes', 'MaxFingerForce'], axis=1, inplace=True) # drop ID column, and 3 more columns, where only after hurricane measurements exist\n",
    "data = data.dropna(thresh=data.shape[1]-5).reset_index().drop('index', axis=1) # drop rows with too many Nans (actually, there is only one row...)\n",
    "data.head() # only numeric values"
   ]
  },
  {
   "cell_type": "code",
   "execution_count": 9,
   "metadata": {
    "colab": {
     "base_uri": "https://localhost:8080/",
     "height": 466
    },
    "id": "_dLCWpz2r5ji",
    "outputId": "539c5cb1-76e2-40a0-c589-e7a98af942fe"
   },
   "outputs": [
    {
     "data": {
      "image/png": "[encoded data removed]",
      "text/plain": [
       "<Figure size 720x432 with 1 Axes>"
      ]
     },
     "metadata": {
      "needs_background": "light",
      "tags": []
     },
     "output_type": "display_data"
    }
   ],
   "source": [
    "plt.figure(figsize=(10, 6))\n",
    "sns.heatmap(data.isnull(), cbar=False)\n",
    "plt.title('Missing values', fontsize=20)\n",
    "plt.show()"
   ]
  },
  {
   "cell_type": "markdown",
   "metadata": {
    "id": "A5PaFt1cpwxp"
   },
   "source": [
    "#### 2. T-SNE"
   ]
  },
  {
   "cell_type": "code",
   "execution_count": 10,
   "metadata": {
    "id": "FEmcRkPIqdua"
   },
   "outputs": [],
   "source": [
    "# select columns (no categorical features):\n",
    "data_numeric = data.drop(['Sex', 'Hurricane', 'Origin'], axis=1)"
   ]
  },
  {
   "cell_type": "code",
   "execution_count": 11,
   "metadata": {
    "id": "NkCr9ZQXoUiY"
   },
   "outputs": [],
   "source": [
    "# scale the data:\n",
    "data_transformed = MinMaxScaler().fit_transform(data_numeric)"
   ]
  },
  {
   "cell_type": "code",
   "execution_count": null,
   "metadata": {
    "id": "-IkAqWV2rfgg"
   },
   "outputs": [],
   "source": [
    "tsne = TSNE(random_state = 123)"
   ]
  },
  {
   "cell_type": "code",
   "execution_count": null,
   "metadata": {
    "colab": {
     "base_uri": "https://localhost:8080/"
    },
    "id": "qE-E3YUbrqVz",
    "outputId": "43d439c4-b522-427b-fc6c-c7ce3ee5898e"
   },
   "outputs": [
    {
     "name": "stdout",
     "output_type": "stream",
     "text": [
      "CPU times: user 1.72 s, sys: 64.5 ms, total: 1.78 s\n",
      "Wall time: 921 ms\n"
     ]
    }
   ],
   "source": [
    "%%time\n",
    "# measuring time\n",
    "# fit model to the the normalized data:\n",
    "embedded = tsne.fit_transform(data_transformed)"
   ]
  },
  {
   "cell_type": "code",
   "execution_count": null,
   "metadata": {
    "colab": {
     "base_uri": "https://localhost:8080/",
     "height": 375
    },
    "id": "PRO6MKdUsXgV",
    "outputId": "b6867e48-1d46-45e0-c103-626b43c81551"
   },
   "outputs": [
    {
     "data": {
      "image/png": "[encoded data removed]",
      "text/plain": [
       "<Figure size 576x432 with 1 Axes>"
      ]
     },
     "metadata": {
      "needs_background": "light",
      "tags": []
     },
     "output_type": "display_data"
    }
   ],
   "source": [
    "# plot the data:\n",
    "fig, ax = plt.subplots(figsize=(8, 6))\n",
    "ax.axes.set_title('t-SNE colored by Sex',fontsize=16)\n",
    "for i, j in enumerate(embedded[:,0]):\n",
    "    if data.Sex.to_list()[i] == 1:\n",
    "        plt.scatter(embedded[:,0][i] , embedded[:,1][i], c='blue', s=15, marker='o') # male\n",
    "    else:\n",
    "        plt.scatter(embedded[:,0][i] , embedded[:,1][i], c='red', s=15, marker='o') # female\n",
    "plt.axis('off')\n",
    "plt.show()"
   ]
  },
  {
   "cell_type": "code",
   "execution_count": null,
   "metadata": {
    "colab": {
     "base_uri": "https://localhost:8080/",
     "height": 375
    },
    "id": "Mn_e04XZv6TM",
    "outputId": "9715115e-a800-42a3-c20b-e3ec765dbeb6"
   },
   "outputs": [
    {
     "data": {
      "image/png": "[encoded data removed]",
      "text/plain": [
       "<Figure size 576x432 with 1 Axes>"
      ]
     },
     "metadata": {
      "needs_background": "light",
      "tags": []
     },
     "output_type": "display_data"
    }
   ],
   "source": [
    "# plot the data:\n",
    "fig, ax = plt.subplots(figsize=(8, 6))\n",
    "ax.axes.set_title('t-SNE colored by Hurricane',fontsize=16)\n",
    "for i, j in enumerate(embedded[:,0]):\n",
    "    if data.Hurricane.to_list()[i] == 1:\n",
    "        plt.scatter(embedded[:,0][i] , embedded[:,1][i], c='black', s=15, marker='o') # after\n",
    "    else:\n",
    "        plt.scatter(embedded[:,0][i] , embedded[:,1][i], c='orange', s=15, marker='o') # before\n",
    "plt.axis('off')\n",
    "plt.show()"
   ]
  },
  {
   "cell_type": "code",
   "execution_count": null,
   "metadata": {
    "colab": {
     "base_uri": "https://localhost:8080/",
     "height": 375
    },
    "id": "O2pqy3ccxA-s",
    "outputId": "b6514c17-73d0-4c9c-b4cb-9aa0e7ce8d2f"
   },
   "outputs": [
    {
     "data": {
      "image/png": "[encoded data removed]",
      "text/plain": [
       "<Figure size 576x432 with 1 Axes>"
      ]
     },
     "metadata": {
      "needs_background": "light",
      "tags": []
     },
     "output_type": "display_data"
    }
   ],
   "source": [
    "# plot the data:\n",
    "fig, ax = plt.subplots(figsize=(8, 6))\n",
    "ax.axes.set_title('t-SNE colored by Origin',fontsize=16)\n",
    "for i, j in enumerate(embedded[:,0]):\n",
    "    if data.Origin.to_list()[i] == 1:\n",
    "        plt.scatter(embedded[:,0][i] , embedded[:,1][i], c='purple', s=15, marker='o') # Pine Cay\n",
    "    else:\n",
    "        plt.scatter(embedded[:,0][i] , embedded[:,1][i], c='green', s=15, marker='o') # Water Cay\n",
    "plt.axis('off')\n",
    "plt.show()"
   ]
  },
  {
   "cell_type": "code",
   "execution_count": null,
   "metadata": {
    "colab": {
     "base_uri": "https://localhost:8080/",
     "height": 375
    },
    "id": "o4onGjv5wC5Z",
    "outputId": "cacd5218-e957-456a-ebf0-9da1640ffd61"
   },
   "outputs": [
    {
     "data": {
      "image/png": "[encoded data removed]",
      "text/plain": [
       "<Figure size 576x432 with 1 Axes>"
      ]
     },
     "metadata": {
      "needs_background": "light",
      "tags": []
     },
     "output_type": "display_data"
    }
   ],
   "source": [
    "# plot the data:\n",
    "fig, ax = plt.subplots(figsize=(8, 6))\n",
    "ax.axes.set_title('t-SNE colored by FingerCount',fontsize=16)\n",
    "for i, j in enumerate(embedded[:,0]):\n",
    "    if data.FingerCount.to_list()[i] < np.mean(data.FingerCount):\n",
    "        plt.scatter(embedded[:,0][i] , embedded[:,1][i], c='darkred', s=15, marker='o') # lower finger count (lower than avg.)\n",
    "    else:\n",
    "        plt.scatter(embedded[:,0][i] , embedded[:,1][i], c='orange', s=15, marker='o') # higher finger count (>= avg.)\n",
    "plt.axis('off')\n",
    "plt.show()"
   ]
  },
  {
   "cell_type": "markdown",
   "metadata": {
    "id": "Mm5ikatuysu1"
   },
   "source": [
    "The best separation is based on the *Sex* variable. <br>\n",
    "The other separations are not so nice."
   ]
  },
  {
   "cell_type": "markdown",
   "metadata": {
    "id": "NHNp_Q6GzMbv"
   },
   "source": [
    "We got basically two main clusters, which seems to be based on the sex of the lizzards."
   ]
  },
  {
   "cell_type": "markdown",
   "metadata": {
    "id": "DAoh1GYrzYjZ"
   },
   "source": [
    "#### 3. Linear model + fine-tune"
   ]
  },
  {
   "cell_type": "code",
   "execution_count": 12,
   "metadata": {
    "id": "b6TFZp1i1dNC"
   },
   "outputs": [],
   "source": [
    "# create x matrix, y array:\n",
    "y = data.Hurricane\n",
    "x = data.drop('Hurricane', axis=1).to_numpy()"
   ]
  },
  {
   "cell_type": "markdown",
   "metadata": {
    "id": "HYE62LgWyhg0"
   },
   "source": [
    "GridSearch cross-validation, with 5-fold cross-validation, using Logisitc Regression with L2 regularization:"
   ]
  },
  {
   "cell_type": "code",
   "execution_count": 13,
   "metadata": {
    "colab": {
     "base_uri": "https://localhost:8080/"
    },
    "id": "HB3IHcQg7Xs4",
    "outputId": "8ddbe0cb-b019-4102-ec90-cb3980b9b9c7"
   },
   "outputs": [
    {
     "name": "stdout",
     "output_type": "stream",
     "text": [
      "Fitting 5 folds for each of 10 candidates, totalling 50 fits\n"
     ]
    },
    {
     "name": "stderr",
     "output_type": "stream",
     "text": [
      "[Parallel(n_jobs=1)]: Using backend SequentialBackend with 1 concurrent workers.\n",
      "[Parallel(n_jobs=1)]: Done  50 out of  50 | elapsed:    2.5s finished\n"
     ]
    },
    {
     "data": {
      "text/plain": [
       "GridSearchCV(cv=None, error_score=nan,\n",
       "             estimator=LogisticRegression(C=1.0, class_weight=None, dual=False,\n",
       "                                          fit_intercept=True,\n",
       "                                          intercept_scaling=1, l1_ratio=None,\n",
       "                                          max_iter=1000, multi_class='auto',\n",
       "                                          n_jobs=None, penalty='l2',\n",
       "                                          random_state=1001, solver='lbfgs',\n",
       "                                          tol=0.0001, verbose=0,\n",
       "                                          warm_start=False),\n",
       "             iid='deprecated', n_jobs=None,\n",
       "             param_grid={'C': [0.01, 0.05, 0.1, 0.2, 0.3, 0.5, 1, 2, 5, 10]},\n",
       "             pre_dispatch='2*n_jobs', refit=True, return_train_score=True,\n",
       "             scoring='accuracy', verbose=1)"
      ]
     },
     "execution_count": 13,
     "metadata": {
      "tags": []
     },
     "output_type": "execute_result"
    }
   ],
   "source": [
    "params = {'C': [0.01, 0.05, 0.1, 0.2, 0.3, 0.5, 1, 2, 5, 10]}\n",
    "\n",
    "# default cv: 5-fold cross-validation\n",
    "gs = GridSearchCV(estimator=LogisticRegression(random_state=1001, penalty='l2', max_iter=1000), \n",
    "                      param_grid=params, \n",
    "                      verbose=1,  # verbose: the higher, the more messages\n",
    "                      scoring='accuracy', \n",
    "                      return_train_score=True)\n",
    "\n",
    "gs.fit(x, y)"
   ]
  },
  {
   "cell_type": "code",
   "execution_count": 14,
   "metadata": {
    "colab": {
     "base_uri": "https://localhost:8080/"
    },
    "id": "dIC3FRAW75Ff",
    "outputId": "4ba739a8-0801-447c-a863-4c12dab48af5"
   },
   "outputs": [
    {
     "name": "stdout",
     "output_type": "stream",
     "text": [
      "Best C parameter found: 5\n"
     ]
    }
   ],
   "source": [
    "print(f'Best C parameter found: {gs.best_params_[\"C\"]}')"
   ]
  },
  {
   "cell_type": "code",
   "execution_count": 15,
   "metadata": {
    "id": "OZQGSsx43NxE"
   },
   "outputs": [],
   "source": [
    "lr = LogisticRegression(random_state=1001, penalty='l2', max_iter=500, C=gs.best_params_['C']).fit(x, y)"
   ]
  },
  {
   "cell_type": "code",
   "execution_count": 16,
   "metadata": {
    "id": "kpELSwwE4Ts5"
   },
   "outputs": [],
   "source": [
    "probs = lr.predict_proba(x)\n",
    "preds = probs[:,1] # probability values \n",
    "fpr, tpr, threshold = metrics.roc_curve(y, preds)\n",
    "roc_auc = metrics.auc(fpr, tpr)"
   ]
  },
  {
   "cell_type": "code",
   "execution_count": 17,
   "metadata": {
    "colab": {
     "base_uri": "https://localhost:8080/",
     "height": 410
    },
    "id": "T77yWnYW4w0y",
    "outputId": "d8a89c17-3a8b-4682-81e1-a5cda398a3dd"
   },
   "outputs": [
    {
     "data": {
      "image/png": "[encoded data removed]",
      "text/plain": [
       "<Figure size 432x432 with 1 Axes>"
      ]
     },
     "metadata": {
      "needs_background": "light",
      "tags": []
     },
     "output_type": "display_data"
    }
   ],
   "source": [
    "# Plot the data:\n",
    "plt.figure(figsize=(6,6))\n",
    "plt.title('Receiver Operating Characteristic', fontsize=16)\n",
    "plt.plot(fpr, tpr, 'b', label = 'AUC = %0.2f' % roc_auc)\n",
    "plt.legend(loc = 'lower right')\n",
    "plt.plot([0, 1], [0, 1],'r--')\n",
    "plt.xlim([0, 1])\n",
    "plt.ylim([0, 1])\n",
    "plt.ylabel('True Positive Rate', fontsize=14)\n",
    "plt.xlabel('False Positive Rate', fontsize=14)\n",
    "plt.show()"
   ]
  },
  {
   "cell_type": "markdown",
   "metadata": {
    "id": "quUqNW3l5Nc1"
   },
   "source": [
    "#### 4. SVM + fine-tune"
   ]
  },
  {
   "cell_type": "markdown",
   "metadata": {
    "id": "86qHD-kqChZ4"
   },
   "source": [
    "Firstly, let's scale the data (the x variables):"
   ]
  },
  {
   "cell_type": "code",
   "execution_count": 23,
   "metadata": {
    "id": "yy7-irsS5Qq9"
   },
   "outputs": [],
   "source": [
    "x_scaled = scale(data.drop('Hurricane', axis=1))\n",
    "y_scaled = data.Hurricane.to_numpy()"
   ]
  },
  {
   "cell_type": "markdown",
   "metadata": {
    "id": "DEGUvk49C5CK"
   },
   "source": [
    "Run a KFold cross-validation with linear kernel:"
   ]
  },
  {
   "cell_type": "code",
   "execution_count": 24,
   "metadata": {
    "colab": {
     "base_uri": "https://localhost:8080/"
    },
    "id": "WGCqFUEC3E1n",
    "outputId": "fedb3f96-512d-4fde-e0df-d4f391ed7a5a"
   },
   "outputs": [
    {
     "name": "stdout",
     "output_type": "stream",
     "text": [
      "Fitting 5 folds for each of 50 candidates, totalling 250 fits\n"
     ]
    },
    {
     "name": "stderr",
     "output_type": "stream",
     "text": [
      "[Parallel(n_jobs=1)]: Using backend SequentialBackend with 1 concurrent workers.\n",
      "[Parallel(n_jobs=1)]: Done 250 out of 250 | elapsed:    1.0s finished\n"
     ]
    },
    {
     "data": {
      "text/plain": [
       "GridSearchCV(cv=None, error_score=nan,\n",
       "             estimator=SVC(C=1.0, break_ties=False, cache_size=200,\n",
       "                           class_weight=None, coef0=0.0,\n",
       "                           decision_function_shape='ovr', degree=3,\n",
       "                           gamma='scale', kernel='rbf', max_iter=-1,\n",
       "                           probability=False, random_state=None, shrinking=True,\n",
       "                           tol=0.001, verbose=False),\n",
       "             iid='deprecated', n_jobs=None,\n",
       "             param_grid={'C': [0.1, 1, 10, 100, 500],\n",
       "                         'gamma': [1, 0.1, 0.01, 0.001, 0.0001],\n",
       "                         'kernel': ['rbf', 'poly']},\n",
       "             pre_dispatch='2*n_jobs', refit=True, return_train_score=True,\n",
       "             scoring='accuracy', verbose=1)"
      ]
     },
     "execution_count": 24,
     "metadata": {
      "tags": []
     },
     "output_type": "execute_result"
    }
   ],
   "source": [
    "params = {'C': [0.1, 1, 10, 100, 500], \n",
    "          'gamma': [1, 0.1, 0.01, 0.001, 0.0001],\n",
    "          'kernel': ['rbf', 'poly']}\n",
    "\n",
    "# default cv: 5-fold cross-validation\n",
    "gs = GridSearchCV(estimator=SVC(), \n",
    "                      param_grid=params, \n",
    "                      verbose=1,  # verbose: the higher, the more messages\n",
    "                      scoring='accuracy', \n",
    "                      return_train_score=True)\n",
    "\n",
    "gs.fit(x_scaled, y_scaled)"
   ]
  },
  {
   "cell_type": "code",
   "execution_count": 25,
   "metadata": {
    "colab": {
     "base_uri": "https://localhost:8080/"
    },
    "id": "3Yfo9bRe7Ey7",
    "outputId": "bf8915cf-55cd-4304-dc2f-fd52c4ec5610"
   },
   "outputs": [
    {
     "name": "stdout",
     "output_type": "stream",
     "text": [
      "Best parameter settings: {'C': 500, 'gamma': 0.001, 'kernel': 'rbf'}\n"
     ]
    }
   ],
   "source": [
    "print(f'Best parameter settings: {gs.best_params_}')"
   ]
  },
  {
   "cell_type": "markdown",
   "metadata": {
    "id": "AQjl5PDM6l9o"
   },
   "source": [
    "Best model found:"
   ]
  },
  {
   "cell_type": "code",
   "execution_count": 26,
   "metadata": {
    "id": "8Iw5Gn5D5d1e"
   },
   "outputs": [],
   "source": [
    "svm = SVC(C=gs.best_params_['C'], \n",
    "          gamma=gs.best_params_['gamma'], \n",
    "          kernel=gs.best_params_['kernel'], \n",
    "          random_state=11,\n",
    "          probability=True).fit(x, y)"
   ]
  },
  {
   "cell_type": "code",
   "execution_count": 27,
   "metadata": {
    "id": "MhaiLN2U5qtH"
   },
   "outputs": [],
   "source": [
    "probs = svm.predict_proba(x)\n",
    "preds = probs[:,1] # probability values \n",
    "fpr, tpr, threshold = metrics.roc_curve(y, preds)\n",
    "roc_auc = metrics.auc(fpr, tpr)"
   ]
  },
  {
   "cell_type": "code",
   "execution_count": 28,
   "metadata": {
    "colab": {
     "base_uri": "https://localhost:8080/",
     "height": 410
    },
    "id": "uD6KwKFL510h",
    "outputId": "f8b7d5cb-39de-48f7-ad3f-f5edbe1c705e"
   },
   "outputs": [
    {
     "data": {
      "image/png": "[encoded data removed]",
      "text/plain": [
       "<Figure size 432x432 with 1 Axes>"
      ]
     },
     "metadata": {
      "needs_background": "light",
      "tags": []
     },
     "output_type": "display_data"
    }
   ],
   "source": [
    "# Plot the data:\n",
    "plt.figure(figsize=(6,6))\n",
    "plt.title('Receiver Operating Characteristic', fontsize=16)\n",
    "plt.plot(fpr, tpr, 'b', label = 'AUC = %0.2f' % roc_auc)\n",
    "plt.legend(loc = 'lower right')\n",
    "plt.plot([0, 1], [0, 1],'r--')\n",
    "plt.xlim([0, 1])\n",
    "plt.ylim([0, 1])\n",
    "plt.ylabel('True Positive Rate', fontsize=14)\n",
    "plt.xlabel('False Positive Rate', fontsize=14)\n",
    "plt.show()"
   ]
  },
  {
   "cell_type": "markdown",
   "metadata": {
    "id": "FeWBiX3bJMTL"
   },
   "source": [
    "#### 5. RF + feature importances"
   ]
  },
  {
   "cell_type": "code",
   "execution_count": 29,
   "metadata": {
    "id": "uP388BKN7Gfy"
   },
   "outputs": [],
   "source": [
    "params = {'max_depth' : [4, 6, 8, 10, 15, 20, 30],\n",
    "          'n_estimators' : [50, 100, 200, 300]}"
   ]
  },
  {
   "cell_type": "code",
   "execution_count": 30,
   "metadata": {
    "colab": {
     "base_uri": "https://localhost:8080/"
    },
    "id": "JZ6jhI6b7bzl",
    "outputId": "52dd4071-d44e-427f-a26e-9559d9e3786b"
   },
   "outputs": [
    {
     "name": "stdout",
     "output_type": "stream",
     "text": [
      "Fitting 5 folds for each of 28 candidates, totalling 140 fits\n"
     ]
    },
    {
     "name": "stderr",
     "output_type": "stream",
     "text": [
      "[Parallel(n_jobs=-1)]: Using backend LokyBackend with 2 concurrent workers.\n",
      "[Parallel(n_jobs=-1)]: Done  46 tasks      | elapsed:   10.5s\n",
      "[Parallel(n_jobs=-1)]: Done 140 out of 140 | elapsed:   31.6s finished\n"
     ]
    },
    {
     "data": {
      "text/plain": [
       "GridSearchCV(cv=None, error_score=nan,\n",
       "             estimator=RandomForestClassifier(bootstrap=True, ccp_alpha=0.0,\n",
       "                                              class_weight=None,\n",
       "                                              criterion='gini', max_depth=None,\n",
       "                                              max_features='auto',\n",
       "                                              max_leaf_nodes=None,\n",
       "                                              max_samples=None,\n",
       "                                              min_impurity_decrease=0.0,\n",
       "                                              min_impurity_split=None,\n",
       "                                              min_samples_leaf=1,\n",
       "                                              min_samples_split=2,\n",
       "                                              min_weight_fraction_leaf=0.0,\n",
       "                                              n_estimators=100, n_jobs=None,\n",
       "                                              oob_score=False,\n",
       "                                              random_state=None, verbose=0,\n",
       "                                              warm_start=False),\n",
       "             iid='deprecated', n_jobs=-1,\n",
       "             param_grid={'max_depth': [4, 6, 8, 10, 15, 20, 30],\n",
       "                         'n_estimators': [50, 100, 200, 300]},\n",
       "             pre_dispatch='2*n_jobs', refit=True, return_train_score=True,\n",
       "             scoring='accuracy', verbose=1)"
      ]
     },
     "execution_count": 30,
     "metadata": {
      "tags": []
     },
     "output_type": "execute_result"
    }
   ],
   "source": [
    "# default cv: 5-fold cross-validation\n",
    "gs = GridSearchCV(estimator=RandomForestClassifier(), \n",
    "                  param_grid=params, \n",
    "                  verbose=1,  # verbose: the higher, the more messages\n",
    "                  scoring='accuracy', \n",
    "                  return_train_score=True,\n",
    "                  n_jobs=-1)\n",
    "\n",
    "gs.fit(x, y)"
   ]
  },
  {
   "cell_type": "code",
   "execution_count": 31,
   "metadata": {
    "colab": {
     "base_uri": "https://localhost:8080/"
    },
    "id": "51tktFc37ifc",
    "outputId": "8e4ad2a9-c3df-4732-c79f-ac06d8d5610d"
   },
   "outputs": [
    {
     "name": "stdout",
     "output_type": "stream",
     "text": [
      "Best parameter settings: {'max_depth': 6, 'n_estimators': 200}\n"
     ]
    }
   ],
   "source": [
    "print(f'Best parameter settings: {gs.best_params_}')"
   ]
  },
  {
   "cell_type": "markdown",
   "metadata": {
    "id": "RmhGN7yo8Ng3"
   },
   "source": [
    "Random Forest Classifier with the best parameter settings:"
   ]
  },
  {
   "cell_type": "code",
   "execution_count": 32,
   "metadata": {
    "id": "tZxlX6AO7n7w"
   },
   "outputs": [],
   "source": [
    "rf = RandomForestClassifier(random_state=11, \n",
    "                            max_depth=gs.best_params_['max_depth'], \n",
    "                            n_estimators=gs.best_params_['n_estimators']).fit(x, y)"
   ]
  },
  {
   "cell_type": "code",
   "execution_count": 33,
   "metadata": {
    "id": "AmzTY9IU7zUe"
   },
   "outputs": [],
   "source": [
    "probs = rf.predict_proba(x)\n",
    "preds = probs[:,1] # probability values \n",
    "fpr, tpr, threshold = metrics.roc_curve(y, preds)\n",
    "roc_auc = metrics.auc(fpr, tpr)"
   ]
  },
  {
   "cell_type": "code",
   "execution_count": 34,
   "metadata": {
    "colab": {
     "base_uri": "https://localhost:8080/",
     "height": 410
    },
    "id": "nzjNmuYg72ml",
    "outputId": "7cae3ad6-9334-4cc2-afa8-99b10cbee172"
   },
   "outputs": [
    {
     "data": {
      "image/png": "[encoded data removed]",
      "text/plain": [
       "<Figure size 432x432 with 1 Axes>"
      ]
     },
     "metadata": {
      "needs_background": "light",
      "tags": []
     },
     "output_type": "display_data"
    }
   ],
   "source": [
    "# Plot the data:\n",
    "plt.figure(figsize=(6,6))\n",
    "plt.title('Receiver Operating Characteristic', fontsize=16)\n",
    "plt.plot(fpr, tpr, 'b', label = 'AUC = %0.2f' % roc_auc)\n",
    "plt.legend(loc = 'lower right')\n",
    "plt.plot([0, 1], [0, 1],'r--')\n",
    "plt.xlim([0, 1])\n",
    "plt.ylim([0, 1])\n",
    "plt.ylabel('True Positive Rate', fontsize=14)\n",
    "plt.xlabel('False Positive Rate', fontsize=14)\n",
    "plt.show()"
   ]
  },
  {
   "cell_type": "code",
   "execution_count": 35,
   "metadata": {
    "id": "NTcMZDjF9FzH"
   },
   "outputs": [],
   "source": [
    "# store the 5 most important features:\n",
    "top_features = [x for _,x in sorted(zip(rf.feature_importances_, data.columns), reverse=True)][:5]"
   ]
  },
  {
   "cell_type": "code",
   "execution_count": 36,
   "metadata": {
    "id": "MfMt7kyz9L22"
   },
   "outputs": [],
   "source": [
    "# create dataframe:\n",
    "df = pd.DataFrame({'Feature': top_features, \n",
    "                     'Importance': sorted(rf.feature_importances_, reverse=True)[:5]})"
   ]
  },
  {
   "cell_type": "code",
   "execution_count": 37,
   "metadata": {
    "colab": {
     "base_uri": "https://localhost:8080/",
     "height": 484
    },
    "id": "16HISFRb9PiN",
    "outputId": "ab0f18d8-5db0-4e7f-d458-4865771caa94"
   },
   "outputs": [
    {
     "data": {
      "image/png": "[encoded data removed]",
      "text/plain": [
       "<Figure size 698.4x451.44 with 1 Axes>"
      ]
     },
     "metadata": {
      "tags": []
     },
     "output_type": "display_data"
    }
   ],
   "source": [
    "# plot the data:\n",
    "sns.set(rc={'figure.figsize':(9.7,6.27)})\n",
    "ax = sns.barplot(x='Feature', y='Importance', data=df)\n",
    "plt.title('The five most important features', fontsize=17)\n",
    "plt.xticks(rotation=70)\n",
    "plt.show()"
   ]
  },
  {
   "cell_type": "markdown",
   "metadata": {
    "id": "dgONSQ2y8gbK"
   },
   "source": [
    "Based on this, the most important feature is the *SVL* variable."
   ]
  }
 ],
 "metadata": {
  "colab": {
   "collapsed_sections": [],
   "name": "hw12.ipynb",
   "provenance": []
  },
  "kernelspec": {
   "display_name": "Python 3",
   "language": "python",
   "name": "python3"
  },
  "language_info": {
   "codemirror_mode": {
    "name": "ipython",
    "version": 3
   },
   "file_extension": ".py",
   "mimetype": "text/x-python",
   "name": "python",
   "nbconvert_exporter": "python",
   "pygments_lexer": "ipython3",
   "version": "3.8.3"
  }
 },
 "nbformat": 4,
 "nbformat_minor": 1
}
